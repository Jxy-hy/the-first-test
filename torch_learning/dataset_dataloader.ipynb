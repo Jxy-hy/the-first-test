{
 "cells": [
  {
   "cell_type": "markdown",
   "metadata": {},
   "source": [
    "<h1 style = \"color : black\">DATASET 提供一种方式去获取数据及其label</h1>\n",
    "<h1 style = \"color : black\">DATALOADER 为后面的网络提供不同的数据形式</h1>\n",
    "<img src=\"./image/first/Snipaste_2025-10-10_16-23-34.png\" width=\"1200\" height=\"550\">"
   ]
  },
  {
   "cell_type": "markdown",
   "metadata": {},
   "source": [
    "<h2>DATASET 中去思考</h2>\n",
    "\n",
    "<p>如何去获取每一个数据及其label,怎么样得到我们总共有多少数据</p>\n",
    "\n",
    "<p><b style = \"color : green\"><i>\n",
    "先认识一下数据集：\n",
    "<br>1.label直接在文件夹名称中，常见二分类\n",
    "<br>2.label直接在照片名称中，常见多分类\n",
    "<br>3.label和照片分开，常见目标识别，其中label在一个txt文件中起哄有坐标数据和相应的类别\n",
    "</i></b></p>\n",
    "\n",
    "<p><b style = \"color : blue\"><i>\n",
    "以下是具体的实现的代码：\n",
    "</i></b></p>"
   ]
  },
  {
   "cell_type": "code",
   "execution_count": 1,
   "metadata": {},
   "outputs": [],
   "source": [
    "from torch.utils.data import Dataset\n",
    "from  PIL import Image\n",
    "import os"
   ]
  },
  {
   "cell_type": "markdown",
   "metadata": {},
   "source": [
    "<img src=\"./image/first/Snipaste_2025-10-10_16-58-37.png\" width=\"1200\" height=\"550\">\n",
    "<p><b style = \"color : green\"><i>\n",
    "从官方文档中我们得知必须要子类必须要重写getitem方法，其作用是获取数据并且其label，还能选择性重写len方法。\n",
    "<br>\n",
    "<b style = \"color : red\">很明显下边的例子是在演示第一种label直接在文件夹名称中的情况</b>\n",
    "</i></b></p>"
   ]
  },
  {
   "cell_type": "code",
   "execution_count": 2,
   "metadata": {},
   "outputs": [],
   "source": [
    "class MyData(Dataset):\n",
    "    def __init__(self, root_dir, label_dir):#其中root是根目录，label是相应的标签路径\n",
    "        self.root_dir = root_dir\n",
    "        self.label_dir = label_dir\n",
    "        self.path = os.path.join(self.root_dir,self.label_dir)\n",
    "        self.img_path = os.listdir(self.path)#将目录下的所有图片，变成一个路径列表，存储的全是图片的地址\n",
    "\n",
    "    def __getitem__(self, index):\n",
    "        img_name = self.img_path[index]\n",
    "        img_item_path = os.path.join(self.root_dir, self.label_dir, img_name)\n",
    "        img = Image.open(img_item_path)\n",
    "        label = self.label_dir\n",
    "        return img, label #返回图片和相应的标签\n",
    "\n",
    "    def __len__(self):\n",
    "        return len(self.img_path)"
   ]
  },
  {
   "cell_type": "code",
   "execution_count": 3,
   "metadata": {},
   "outputs": [
    {
     "data": {
      "text/plain": "(<PIL.JpegImagePlugin.JpegImageFile image mode=RGB size=500x375>, 'Cat')"
     },
     "execution_count": 3,
     "metadata": {},
     "output_type": "execute_result"
    }
   ],
   "source": [
    "#做一个实例吧\n",
    "root_dir = \"E:/python/DEEP learning/pytorch_catdog/data/train\"\n",
    "cat_label_dir = \"Cat\"\n",
    "cat_dataset = MyData(root_dir,cat_label_dir)\n",
    "cat_dataset[0]"
   ]
  },
  {
   "cell_type": "code",
   "execution_count": 4,
   "metadata": {},
   "outputs": [],
   "source": [
    "img,label = cat_dataset[0]\n",
    "img.show()"
   ]
  },
  {
   "cell_type": "code",
   "execution_count": 5,
   "metadata": {},
   "outputs": [
    {
     "data": {
      "text/plain": "9919"
     },
     "execution_count": 5,
     "metadata": {},
     "output_type": "execute_result"
    }
   ],
   "source": [
    "len(cat_dataset)"
   ]
  },
  {
   "cell_type": "code",
   "execution_count": 6,
   "metadata": {},
   "outputs": [
    {
     "data": {
      "text/plain": "9919"
     },
     "execution_count": 6,
     "metadata": {},
     "output_type": "execute_result"
    }
   ],
   "source": [
    "root_dir = \"E:/python/DEEP learning/pytorch_catdog/data/train\"\n",
    "dog_label_dir = \"Dog\"\n",
    "dog_dataset = MyData(root_dir,cat_label_dir)\n",
    "len(dog_dataset)"
   ]
  },
  {
   "cell_type": "code",
   "execution_count": 7,
   "outputs": [
    {
     "data": {
      "text/plain": "19838"
     },
     "execution_count": 7,
     "metadata": {},
     "output_type": "execute_result"
    }
   ],
   "source": [
    "train_dataset = dog_dataset + cat_dataset\n",
    "len(train_dataset)"
   ],
   "metadata": {
    "collapsed": false
   }
  },
  {
   "cell_type": "markdown",
   "source": [
    "<b style = \"color : red\"><i>以下是第三种的例子，label和照片分开，常见目标识别，其中label在一个txt文件中有坐标数据和相应的类别 </i></b>"
   ],
   "metadata": {
    "collapsed": false
   }
  },
  {
   "cell_type": "code",
   "execution_count": 11,
   "outputs": [],
   "source": [
    "class MyData(Dataset):\n",
    "    def __init__(self, image_dir, label_dir):#其中root是根目录，label是相应的标签路径\n",
    "        self.image_dir = image_dir\n",
    "        self.label_dir = label_dir\n",
    "        self.img_path = os.listdir(self.image_dir)#将目录下的所有图片，变成一个路径列表，存储的全是图片的名称\n",
    "        self.label_path = os.listdir(self.label_dir)#将目录下的所有标签，变成一个路径列表，存储的全是标签的名称\n",
    "\n",
    "    def __getitem__(self, index):\n",
    "        img_name = self.img_path[index]\n",
    "        img_item_path = os.path.join(self.image_dir , img_name)\n",
    "        img = Image.open(img_item_path)\n",
    "        label_name = self.label_path[index]\n",
    "        label_item_path = os.path.join(self.label_dir , label_name)\n",
    "        with open(label_item_path , 'r', encoding='utf-8') as f:\n",
    "            label = f.read()\n",
    "            f.close()\n",
    "        return img, label #返回图片和相应的标签\n",
    "\n",
    "    def __len__(self):\n",
    "        return len(self.img_path)"
   ],
   "metadata": {
    "collapsed": false
   }
  },
  {
   "cell_type": "code",
   "execution_count": 12,
   "outputs": [
    {
     "name": "stdout",
     "output_type": "stream",
     "text": [
      "0.jpg\n"
     ]
    },
    {
     "data": {
      "text/plain": "(<PIL.JpegImagePlugin.JpegImageFile image mode=RGB size=500x375>,\n '123123123123 cat')"
     },
     "execution_count": 12,
     "metadata": {},
     "output_type": "execute_result"
    }
   ],
   "source": [
    "image_dir = \"E:/python/DEEP learning/pytorch_catdog/data/train/Cat\"\n",
    "label_dir = \"E:/python/DEEP learning/pytorch_catdog/data/train/cat_label\"\n",
    "cat_dataset = MyData(image_dir,label_dir)\n",
    "cat_dataset[0]"
   ],
   "metadata": {
    "collapsed": false
   }
  },
  {
   "cell_type": "code",
   "execution_count": 10,
   "outputs": [
    {
     "data": {
      "text/plain": "9919"
     },
     "execution_count": 10,
     "metadata": {},
     "output_type": "execute_result"
    }
   ],
   "source": [
    "len(cat_dataset)"
   ],
   "metadata": {
    "collapsed": false
   }
  }
 ],
 "metadata": {
  "kernelspec": {
   "display_name": "Python 3 (ipykernel)",
   "language": "python",
   "name": "python3"
  },
  "language_info": {
   "codemirror_mode": {
    "name": "ipython",
    "version": 3
   },
   "file_extension": ".py",
   "mimetype": "text/x-python",
   "name": "python",
   "nbconvert_exporter": "python",
   "pygments_lexer": "ipython3",
   "version": "3.7.13"
  }
 },
 "nbformat": 4,
 "nbformat_minor": 1
}
