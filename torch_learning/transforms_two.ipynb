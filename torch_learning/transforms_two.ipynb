{
 "cells": [
  {
   "cell_type": "markdown",
   "source": [
    "<p><b style = \"color : green\"><i>\n",
    "1.关注输入和输出<br>\n",
    "2.多看官方文档<br>\n",
    "3.关注方法需要什么参数<br>\n",
    "</i></b></p>"
   ],
   "metadata": {
    "collapsed": false
   }
  },
  {
   "cell_type": "code",
   "execution_count": 19,
   "metadata": {
    "collapsed": true
   },
   "outputs": [],
   "source": [
    "import torch\n",
    "from PIL import Image\n",
    "from torchvision import transforms\n",
    "from torch.utils.tensorboard import SummaryWriter\n",
    "\n",
    "img = Image.open('./image/second/thetransformsuse.jpg')\n",
    "\n",
    "writer = SummaryWriter(\"logs\")\n",
    "\n",
    "transform = transforms.PILToTensor()\n",
    "img_tensor = transform(img)\n",
    "writer.add_image(\"transform\",img_tensor,0)\n",
    "\n",
    "transform = transforms.Compose([\n",
    "    transforms.Resize((1024, 512)),  # 调整图像大小\n",
    "    transforms.CenterCrop(256),      # 中心裁剪\n",
    "    transforms.ToTensor(),           # 转为tenso类型\n",
    "    transforms.ConvertImageDtype(torch.float),# unit8转为float\n",
    "    transforms.Normalize(            # 归一化\n",
    "        mean=[0.485, 0.456, 0.406],\n",
    "        std=[0.229, 0.224, 0.225]\n",
    "    )\n",
    "])\n",
    "\n",
    "img_tensor2 = transform(img)\n",
    "writer.add_image(\"transform\",img_tensor2,1)\n",
    "\n",
    "transform = transforms.Compose([\n",
    "    transforms.RandomCrop(\n",
    "        size=(1024, 224),  # 裁剪后的尺寸\n",
    "        padding=4,        # 填充 4 个像素\n",
    "        pad_if_needed=True,  # 如果图像太小，进行填充\n",
    "        fill=0,           # 填充值为 0\n",
    "        padding_mode='constant'  # 填充模式为常数\n",
    "    ),\n",
    "    transforms.ToTensor(),           # 转为tenso类型\n",
    "])\n",
    "\n",
    "for i in range(0,100,1):\n",
    "    writer.add_image(\"randomcrop\",transform(img),i)\n",
    "writer.close()"
   ]
  }
 ],
 "metadata": {
  "kernelspec": {
   "display_name": "Python 3",
   "language": "python",
   "name": "python3"
  },
  "language_info": {
   "codemirror_mode": {
    "name": "ipython",
    "version": 2
   },
   "file_extension": ".py",
   "mimetype": "text/x-python",
   "name": "python",
   "nbconvert_exporter": "python",
   "pygments_lexer": "ipython2",
   "version": "2.7.6"
  }
 },
 "nbformat": 4,
 "nbformat_minor": 0
}
