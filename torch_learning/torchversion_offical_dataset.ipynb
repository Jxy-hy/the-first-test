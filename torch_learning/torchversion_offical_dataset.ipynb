{
 "cells": [
  {
   "cell_type": "markdown",
   "source": [
    "<h2 style = \"color : green;text-align : center\">torchversionz中的数据集使用</h2>"
   ],
   "metadata": {
    "collapsed": false
   }
  },
  {
   "cell_type": "code",
   "execution_count": 28,
   "outputs": [],
   "source": [
    "import torchvision\n",
    "from torch.utils.tensorboard import SummaryWriter"
   ],
   "metadata": {
    "collapsed": false
   }
  },
  {
   "cell_type": "markdown",
   "source": [
    "<P style = \"color : green;\"><b><i>\n",
    "以下参数:\n",
    "ROOT为将数据集下载到哪，或者在相应地地址下去找相应的数据集<br>\n",
    "train为True即为训练集否则为测试集<br>\n",
    "transform为将数据集的每一个数据都进行变换<br>\n",
    "Download为true时会下载并验证，可以常设为true<br>\n",
    "</i></b></p>"
   ],
   "metadata": {
    "collapsed": false
   }
  },
  {
   "cell_type": "code",
   "execution_count": 29,
   "outputs": [],
   "source": [
    "transform = torchvision.transforms.Compose([\n",
    "    torchvision.transforms.ToTensor()\n",
    "])"
   ],
   "metadata": {
    "collapsed": false
   }
  },
  {
   "cell_type": "code",
   "execution_count": 30,
   "outputs": [
    {
     "name": "stdout",
     "output_type": "stream",
     "text": [
      "Files already downloaded and verified\n",
      "Files already downloaded and verified\n"
     ]
    }
   ],
   "source": [
    "train_set = torchvision.datasets.CIFAR10(root=\"./dataset\", train=True,transform=transform, download=True)\n",
    "test_set = torchvision.datasets.CIFAR10(root=\"./dataset\", train=False,transform=transform,download=True)"
   ],
   "metadata": {
    "collapsed": false
   }
  },
  {
   "cell_type": "code",
   "execution_count": 31,
   "outputs": [
    {
     "data": {
      "text/plain": "(tensor([[[0.6196, 0.6235, 0.6471,  ..., 0.5373, 0.4941, 0.4549],\n          [0.5961, 0.5922, 0.6235,  ..., 0.5333, 0.4902, 0.4667],\n          [0.5922, 0.5922, 0.6196,  ..., 0.5451, 0.5098, 0.4706],\n          ...,\n          [0.2667, 0.1647, 0.1216,  ..., 0.1490, 0.0510, 0.1569],\n          [0.2392, 0.1922, 0.1373,  ..., 0.1020, 0.1137, 0.0784],\n          [0.2118, 0.2196, 0.1765,  ..., 0.0941, 0.1333, 0.0824]],\n \n         [[0.4392, 0.4353, 0.4549,  ..., 0.3725, 0.3569, 0.3333],\n          [0.4392, 0.4314, 0.4471,  ..., 0.3725, 0.3569, 0.3451],\n          [0.4314, 0.4275, 0.4353,  ..., 0.3843, 0.3725, 0.3490],\n          ...,\n          [0.4863, 0.3922, 0.3451,  ..., 0.3804, 0.2510, 0.3333],\n          [0.4549, 0.4000, 0.3333,  ..., 0.3216, 0.3216, 0.2510],\n          [0.4196, 0.4118, 0.3490,  ..., 0.3020, 0.3294, 0.2627]],\n \n         [[0.1922, 0.1843, 0.2000,  ..., 0.1412, 0.1412, 0.1294],\n          [0.2000, 0.1569, 0.1765,  ..., 0.1216, 0.1255, 0.1333],\n          [0.1843, 0.1294, 0.1412,  ..., 0.1333, 0.1333, 0.1294],\n          ...,\n          [0.6941, 0.5804, 0.5373,  ..., 0.5725, 0.4235, 0.4980],\n          [0.6588, 0.5804, 0.5176,  ..., 0.5098, 0.4941, 0.4196],\n          [0.6275, 0.5843, 0.5176,  ..., 0.4863, 0.5059, 0.4314]]]),\n 3)"
     },
     "execution_count": 31,
     "metadata": {},
     "output_type": "execute_result"
    }
   ],
   "source": [
    "test_set[0]"
   ],
   "metadata": {
    "collapsed": false
   }
  },
  {
   "cell_type": "code",
   "execution_count": 32,
   "outputs": [],
   "source": [
    "img , target = test_set[0]"
   ],
   "metadata": {
    "collapsed": false
   }
  },
  {
   "cell_type": "markdown",
   "source": [
    "<P style = \"color : green;\"><b><i>\n",
    "在tensorboard中去展示\n",
    "</i></b></p>"
   ],
   "metadata": {
    "collapsed": false
   }
  },
  {
   "cell_type": "code",
   "execution_count": 33,
   "outputs": [],
   "source": [
    "writer = SummaryWriter(\"torchversion_offical_dataset\")\n",
    "for i in range(0,10,1):\n",
    "    img , target = test_set[i]\n",
    "    writer.add_image(\"CIFAR10\",img,i)\n",
    "writer.close()"
   ],
   "metadata": {
    "collapsed": false
   }
  }
 ],
 "metadata": {
  "kernelspec": {
   "display_name": "Python 3",
   "language": "python",
   "name": "python3"
  },
  "language_info": {
   "codemirror_mode": {
    "name": "ipython",
    "version": 2
   },
   "file_extension": ".py",
   "mimetype": "text/x-python",
   "name": "python",
   "nbconvert_exporter": "python",
   "pygments_lexer": "ipython2",
   "version": "2.7.6"
  }
 },
 "nbformat": 4,
 "nbformat_minor": 0
}
