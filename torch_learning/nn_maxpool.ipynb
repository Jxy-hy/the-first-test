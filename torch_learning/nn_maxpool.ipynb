{
 "cells": [
  {
   "cell_type": "code",
   "execution_count": 1,
   "metadata": {
    "collapsed": true
   },
   "outputs": [],
   "source": [
    "import torch\n",
    "from torch.utils.tensorboard import SummaryWriter\n",
    "from torch.utils.data import DataLoader\n",
    "import torch.nn as nn\n",
    "import torchvision"
   ]
  },
  {
   "cell_type": "code",
   "execution_count": 2,
   "outputs": [
    {
     "name": "stdout",
     "output_type": "stream",
     "text": [
      "Files already downloaded and verified\n"
     ]
    }
   ],
   "source": [
    "test_dataset = torchvision.datasets.CIFAR10(\"./dataset\",train=False,transform=torchvision.transforms.ToTensor(),download=True)\n",
    "dataloader = DataLoader(test_dataset,batch_size = 64,shuffle = True,drop_last = True)"
   ],
   "metadata": {
    "collapsed": false
   }
  },
  {
   "cell_type": "markdown",
   "source": [
    "<P style = \"color : blue;font-size: 19px;\">\n",
    "<i style = \"color : green;font-size: 22px\">最大池化的作用在池化核中选择最大的值，保留特征、简化计算</i><br>\n",
    "<b>nn.MaxPool2d:</b><br>\n",
    "池化核kernel_size可以是任意形状的矩阵<br>\n",
    "output输出和输入有一样的数据类型<br>\n",
    "stride步长，padding填充，默认填充为零<br>\n",
    "dilation、分组卷积一般为默认值<br>\n",
    "ceil_mode等于true不舍去，False时舍去<br>\n",
    "</p>"
   ],
   "metadata": {
    "collapsed": false
   }
  },
  {
   "cell_type": "code",
   "execution_count": 3,
   "outputs": [],
   "source": [
    "class eazy_pool(nn.Module):\n",
    "    def __init__(self):\n",
    "        super(eazy_pool, self).__init__()\n",
    "        self.maxpool = nn.MaxPool2d(kernel_size=3,stride=1,padding=0,ceil_mode=True)\n",
    "    def forward(self,x):\n",
    "        output = self.maxpool(x)\n",
    "        return output"
   ],
   "metadata": {
    "collapsed": false
   }
  },
  {
   "cell_type": "code",
   "execution_count": 4,
   "outputs": [
    {
     "name": "stderr",
     "output_type": "stream",
     "text": [
      "D:\\Program Files (x86)\\Anaconda\\envs\\DeepLearning\\lib\\site-packages\\torch\\nn\\functional.py:780: UserWarning: Note that order of the arguments: ceil_mode and return_indices will changeto match the args list in nn.MaxPool2d in a future release.\n",
      "  warnings.warn(\"Note that order of the arguments: ceil_mode and return_indices will change\"\n"
     ]
    }
   ],
   "source": [
    "writer = SummaryWriter(\"./tensorboard/nn_maxpool\")\n",
    "step = 0\n",
    "Eazy_pool = eazy_pool()\n",
    "for data in dataloader:\n",
    "    imgs , target = data\n",
    "    output = Eazy_pool(imgs)\n",
    "    writer.add_images(\"input\",imgs,step)\n",
    "    writer.add_images(\"output\",output,step)\n",
    "    step += 1\n",
    "writer.close()"
   ],
   "metadata": {
    "collapsed": false
   }
  }
 ],
 "metadata": {
  "kernelspec": {
   "display_name": "Python 3",
   "language": "python",
   "name": "python3"
  },
  "language_info": {
   "codemirror_mode": {
    "name": "ipython",
    "version": 2
   },
   "file_extension": ".py",
   "mimetype": "text/x-python",
   "name": "python",
   "nbconvert_exporter": "python",
   "pygments_lexer": "ipython2",
   "version": "2.7.6"
  }
 },
 "nbformat": 4,
 "nbformat_minor": 0
}
