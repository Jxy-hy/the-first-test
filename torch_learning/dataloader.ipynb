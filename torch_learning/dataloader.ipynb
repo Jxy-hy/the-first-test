{
 "cells": [
  {
   "cell_type": "markdown",
   "source": [
    "<h2 style = \"color : green;text-align : center\">dataloader的使用</h2>"
   ],
   "metadata": {
    "collapsed": false
   }
  },
  {
   "cell_type": "code",
   "execution_count": 1,
   "outputs": [],
   "source": [
    "import torchvision\n",
    "from torch.utils.data import DataLoader\n",
    "from torch.utils.tensorboard import SummaryWriter"
   ],
   "metadata": {
    "collapsed": false
   }
  },
  {
   "cell_type": "code",
   "execution_count": 2,
   "outputs": [
    {
     "name": "stdout",
     "output_type": "stream",
     "text": [
      "Files already downloaded and verified\n"
     ]
    }
   ],
   "source": [
    "train_dataset = torchvision.datasets.CIFAR10(\"./dataset\",train=True,transform=torchvision.transforms.ToTensor(),download=True)"
   ],
   "metadata": {
    "collapsed": false
   }
  },
  {
   "cell_type": "markdown",
   "source": [
    "<P style = \"color : green;\"><b><i>\n",
    "以下参数:\n",
    "dataset为加载哪个数据集<br>\n",
    "batch_size为一轮加载多少张图片<br>\n",
    "shffer为是否将数据集打乱<br>\n",
    "numworks为加载时采用的线程数，默认为零，且大于零时可能会报错<br>\n",
    "drop_last表示是否将剩下的不构成另一轮加载的图片舍弃掉<br>\n",
    "sampler表示为采样器，默认为随机采样<br>\n",
    "</i></b></p>"
   ],
   "metadata": {
    "collapsed": false
   }
  },
  {
   "cell_type": "code",
   "execution_count": 3,
   "outputs": [],
   "source": [
    "train_loader = DataLoader(dataset=train_dataset,\n",
    "                         batch_size=64,\n",
    "                         shuffle=True,\n",
    "                         num_workers=0,\n",
    "                         drop_last=False)"
   ],
   "metadata": {
    "collapsed": false
   }
  },
  {
   "cell_type": "code",
   "execution_count": 4,
   "outputs": [],
   "source": [
    "writer = SummaryWriter(\"./dataloader\")\n",
    "step = 0\n",
    "for i in train_loader:\n",
    "    imgs , targets = i\n",
    "    writer.add_images(\"train_loader\",imgs,step)\n",
    "    step = step + 1\n",
    "writer.close()"
   ],
   "metadata": {
    "collapsed": false
   }
  }
 ],
 "metadata": {
  "kernelspec": {
   "display_name": "Python 3",
   "language": "python",
   "name": "python3"
  },
  "language_info": {
   "codemirror_mode": {
    "name": "ipython",
    "version": 2
   },
   "file_extension": ".py",
   "mimetype": "text/x-python",
   "name": "python",
   "nbconvert_exporter": "python",
   "pygments_lexer": "ipython2",
   "version": "2.7.6"
  }
 },
 "nbformat": 4,
 "nbformat_minor": 0
}
