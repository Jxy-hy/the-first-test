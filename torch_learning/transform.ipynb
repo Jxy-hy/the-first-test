{
 "cells": [
  {
   "cell_type": "markdown",
   "source": [
    "<h2>transforms 中去思考</h2>\n",
    "\n",
    "<p><b style = \"color : green\"><i>\n",
    "<br>1.如何去使用transforms\n",
    "<br>2.为什么需要Tensor数据类型\n",
    "</i></b></p>\n",
    "\n",
    "<p><b style = \"color : blue\"><i>\n",
    "以下是具体的实现的代码：\n",
    "</i></b></p>"
   ],
   "metadata": {
    "collapsed": false
   }
  },
  {
   "cell_type": "code",
   "execution_count": 20,
   "metadata": {
    "collapsed": true
   },
   "outputs": [],
   "source": [
    "from torchvision import transforms\n",
    "from PIL import Image"
   ]
  },
  {
   "cell_type": "code",
   "execution_count": 21,
   "metadata": {},
   "outputs": [
    {
     "name": "stdout",
     "output_type": "stream",
     "text": [
      "<class 'PIL.JpegImagePlugin.JpegImageFile'>\n"
     ]
    }
   ],
   "source": [
    "img_path = \"E:/python/DEEP learning/pytorch_catdog/data/train/Cat/0.jpg\"\n",
    "img = Image.open(img_path)\n",
    "print(type(img))"
   ]
  },
  {
   "cell_type": "code",
   "execution_count": 22,
   "metadata": {},
   "outputs": [
    {
     "name": "stdout",
     "output_type": "stream",
     "text": [
      "tensor([[[0.7961, 0.7961, 0.8000,  ..., 0.9412, 0.9373, 0.9333],\n",
      "         [0.7961, 0.7961, 0.8000,  ..., 0.9412, 0.9373, 0.9373],\n",
      "         [0.7961, 0.7961, 0.8000,  ..., 0.9451, 0.9412, 0.9373],\n",
      "         ...,\n",
      "         [0.6000, 0.6000, 0.6000,  ..., 0.0078, 0.0078, 0.0078],\n",
      "         [0.5961, 0.5961, 0.5961,  ..., 0.0039, 0.0039, 0.0039],\n",
      "         [0.5922, 0.5922, 0.5961,  ..., 0.0039, 0.0039, 0.0039]],\n",
      "\n",
      "        [[0.6431, 0.6431, 0.6471,  ..., 0.7882, 0.7843, 0.7804],\n",
      "         [0.6431, 0.6431, 0.6471,  ..., 0.7882, 0.7843, 0.7843],\n",
      "         [0.6431, 0.6431, 0.6471,  ..., 0.7922, 0.7882, 0.7843],\n",
      "         ...,\n",
      "         [0.4784, 0.4784, 0.4784,  ..., 0.0078, 0.0078, 0.0078],\n",
      "         [0.4745, 0.4745, 0.4745,  ..., 0.0039, 0.0039, 0.0039],\n",
      "         [0.4706, 0.4706, 0.4745,  ..., 0.0039, 0.0039, 0.0039]],\n",
      "\n",
      "        [[0.3412, 0.3412, 0.3451,  ..., 0.4784, 0.4745, 0.4706],\n",
      "         [0.3412, 0.3412, 0.3451,  ..., 0.4784, 0.4745, 0.4745],\n",
      "         [0.3412, 0.3412, 0.3451,  ..., 0.4824, 0.4784, 0.4745],\n",
      "         ...,\n",
      "         [0.2157, 0.2157, 0.2157,  ..., 0.0000, 0.0000, 0.0000],\n",
      "         [0.2118, 0.2118, 0.2118,  ..., 0.0000, 0.0000, 0.0000],\n",
      "         [0.2078, 0.2078, 0.2118,  ..., 0.0000, 0.0000, 0.0000]]])\n"
     ]
    }
   ],
   "source": [
    "tensor_trans = transforms.ToTensor()#创建一个具体的工具，要去实现里边的类\n",
    "tensor_img = tensor_trans(img)#源代码中是用call实现的\n",
    "print(tensor_img)"
   ]
  },
  {
   "cell_type": "code",
   "execution_count": 23,
   "outputs": [
    {
     "name": "stdout",
     "output_type": "stream",
     "text": [
      "<class 'numpy.ndarray'>\n",
      "[[[ 87 164 203]\n",
      "  [ 87 164 203]\n",
      "  [ 88 165 204]\n",
      "  ...\n",
      "  [122 201 240]\n",
      "  [121 200 239]\n",
      "  [120 199 238]]\n",
      "\n",
      " [[ 87 164 203]\n",
      "  [ 87 164 203]\n",
      "  [ 88 165 204]\n",
      "  ...\n",
      "  [122 201 240]\n",
      "  [121 200 239]\n",
      "  [121 200 239]]\n",
      "\n",
      " [[ 87 164 203]\n",
      "  [ 87 164 203]\n",
      "  [ 88 165 204]\n",
      "  ...\n",
      "  [123 202 241]\n",
      "  [122 201 240]\n",
      "  [121 200 239]]\n",
      "\n",
      " ...\n",
      "\n",
      " [[ 55 122 153]\n",
      "  [ 55 122 153]\n",
      "  [ 55 122 153]\n",
      "  ...\n",
      "  [  0   2   2]\n",
      "  [  0   2   2]\n",
      "  [  0   2   2]]\n",
      "\n",
      " [[ 54 121 152]\n",
      "  [ 54 121 152]\n",
      "  [ 54 121 152]\n",
      "  ...\n",
      "  [  0   1   1]\n",
      "  [  0   1   1]\n",
      "  [  0   1   1]]\n",
      "\n",
      " [[ 53 120 151]\n",
      "  [ 53 120 151]\n",
      "  [ 54 121 152]\n",
      "  ...\n",
      "  [  0   1   1]\n",
      "  [  0   1   1]\n",
      "  [  0   1   1]]]\n",
      "<class 'torch.Tensor'>\n"
     ]
    }
   ],
   "source": [
    "import cv2\n",
    "opencvtt_img = cv2.imread(img_path)\n",
    "print(type(opencvtt_img))\n",
    "print(opencvtt_img)\n",
    "tensor_img = tensor_trans(img)\n",
    "print(type(tensor_img))"
   ],
   "metadata": {
    "collapsed": false
   }
  },
  {
   "cell_type": "markdown",
   "source": [
    "<p><b style = \"color : green\"><i>\n",
    "tensor数据类型中包含了深度学习中所需要的一切数据，比如反向传播，梯度等\n",
    "</i></b></p>\n",
    "<img src=\"./image/first/t1.png\">"
   ],
   "metadata": {
    "collapsed": false
   }
  },
  {
   "cell_type": "markdown",
   "source": [
    "<p><b style = \"color : green\"><i>\n",
    "在tensorboard中做几个实例\n",
    "</i></b></p>"
   ],
   "metadata": {
    "collapsed": false
   }
  },
  {
   "cell_type": "code",
   "execution_count": null,
   "outputs": [],
   "source": [
    "from torch.utils.tensorboard import SummaryWriter\n",
    "writter = SummaryWriter(\"logs\")\n",
    "writter.add_image(\"tnsor_image\", tensor_img , 0)\n",
    "tensor_trans = transforms.Normalize([1,1,1],[1,1,1])#参数分别是均值和方差\n",
    "tensor_img = tensor_trans(tensor_img)#进行归一化\n",
    "writter.add_image(\"tnsor_image\", tensor_img , 1)\n",
    "tensor_trans = transforms.Normalize([2,4,6],[5,3,2])#参数分别是均值和方差\n",
    "tensor_img = tensor_trans(tensor_img)#进行归一化\n",
    "writter.add_image(\"tnsor_image\", tensor_img , 2)"
   ],
   "metadata": {
    "collapsed": false,
    "pycharm": {
     "is_executing": true
    }
   }
  }
 ],
 "metadata": {
  "kernelspec": {
   "name": "pycharm-1df6c298",
   "language": "python",
   "display_name": "PyCharm (Deep_learning)"
  },
  "language_info": {
   "codemirror_mode": {
    "name": "ipython",
    "version": 3
   },
   "file_extension": ".py",
   "mimetype": "text/x-python",
   "name": "python",
   "nbconvert_exporter": "python",
   "pygments_lexer": "ipython3",
   "version": "3.7.13"
  }
 },
 "nbformat": 4,
 "nbformat_minor": 1
}
