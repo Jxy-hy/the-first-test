{
 "cells": [
  {
   "cell_type": "code",
   "execution_count": 1,
   "metadata": {
    "collapsed": true
   },
   "outputs": [],
   "source": [
    "from torch.utils.tensorboard import SummaryWriter"
   ]
  },
  {
   "cell_type": "code",
   "execution_count": 2,
   "metadata": {},
   "outputs": [],
   "source": [
    "writer = SummaryWriter(\"logs\")"
   ]
  },
  {
   "cell_type": "code",
   "execution_count": 5,
   "metadata": {},
   "outputs": [],
   "source": [
    "for i in range(0,100,1):\n",
    "    writer.add_scalar(\"y = 3x\",3 * i,i)#第一个参数tag标题，第二个参数是y轴，第三个参数是x轴\n",
    "writer.close()"
   ]
  },
  {
   "cell_type": "markdown",
   "metadata": {},
   "source": [
    "<b style = \" color : blue\"><i>如果多次运行出错的话，可以把log文件删掉再次运行</b></i>"
   ]
  },
  {
   "cell_type": "code",
   "execution_count": 8,
   "metadata": {},
   "outputs": [],
   "source": [
    "import numpy as np\n",
    "from PIL import Image\n",
    "image_path = \"E:/python/DEEP learning/pytorch_catdog/data/train/Cat/0.jpg\"\n",
    "img_PIL = Image.open(image_path)\n",
    "img_array = np.array(img_PIL)\n",
    "\n",
    "writer.add_image(\"A cat\", img_array , 1, dataformats='HWC')#参数分别为tag，numpy型，tensor型的图片数据，第几轮，需要设置宽高通道数的次序"
   ]
  },
  {
   "cell_type": "code",
   "execution_count": 10,
   "metadata": {},
   "outputs": [],
   "source": [
    "image_path = \"E:/python/DEEP learning/pytorch_catdog/data/train/Cat/900.jpg\"\n",
    "img_PIL = Image.open(image_path)\n",
    "img_array = np.array(img_PIL)\n",
    "\n",
    "writer.add_image(\"two cat\", img_array , 1, dataformats='HWC')"
   ]
  }
 ],
 "metadata": {
  "kernelspec": {
   "display_name": "Python 3 (ipykernel)",
   "language": "python",
   "name": "python3"
  },
  "language_info": {
   "codemirror_mode": {
    "name": "ipython",
    "version": 3
   },
   "file_extension": ".py",
   "mimetype": "text/x-python",
   "name": "python",
   "nbconvert_exporter": "python",
   "pygments_lexer": "ipython3",
   "version": "3.7.13"
  }
 },
 "nbformat": 4,
 "nbformat_minor": 1
}
