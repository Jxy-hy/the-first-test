{
 "cells": [
  {
   "cell_type": "markdown",
   "metadata": {},
   "source": [
    "<h2>transforms 中去思考</h2>\n",
    "\n",
    "<p><b style = \"color : green\"><i>\n",
    "<br>1.如何去使用transforms\n",
    "<br>2.为什么需要Tensor数据类型\n",
    "</i></b></p>\n",
    "\n",
    "<p><b style = \"color : blue\"><i>\n",
    "以下是具体的实现的代码：\n",
    "</i></b></p>"
   ]
  },
  {
   "cell_type": "code",
   "execution_count": 1,
   "metadata": {
    "collapsed": true
   },
   "outputs": [],
   "source": [
    "from torchvision import transforms\n",
    "from PIL import Image"
   ]
  },
  {
   "cell_type": "code",
   "execution_count": 2,
   "metadata": {},
   "outputs": [
    {
     "name": "stdout",
     "output_type": "stream",
     "text": [
      "<class 'PIL.JpegImagePlugin.JpegImageFile'>\n"
     ]
    }
   ],
   "source": [
    "img_path = \"E:/python/DEEP learning/pytorch_catdog/data/train/Cat/0.jpg\"\n",
    "img = Image.open(img_path)\n",
    "print(type(img))"
   ]
  },
  {
   "cell_type": "code",
   "execution_count": 3,
   "metadata": {},
   "outputs": [
    {
     "name": "stdout",
     "output_type": "stream",
     "text": [
      "tensor([[[0.7961, 0.7961, 0.8000,  ..., 0.9412, 0.9373, 0.9333],\n",
      "         [0.7961, 0.7961, 0.8000,  ..., 0.9412, 0.9373, 0.9373],\n",
      "         [0.7961, 0.7961, 0.8000,  ..., 0.9451, 0.9412, 0.9373],\n",
      "         ...,\n",
      "         [0.6000, 0.6000, 0.6000,  ..., 0.0078, 0.0078, 0.0078],\n",
      "         [0.5961, 0.5961, 0.5961,  ..., 0.0039, 0.0039, 0.0039],\n",
      "         [0.5922, 0.5922, 0.5961,  ..., 0.0039, 0.0039, 0.0039]],\n",
      "\n",
      "        [[0.6431, 0.6431, 0.6471,  ..., 0.7882, 0.7843, 0.7804],\n",
      "         [0.6431, 0.6431, 0.6471,  ..., 0.7882, 0.7843, 0.7843],\n",
      "         [0.6431, 0.6431, 0.6471,  ..., 0.7922, 0.7882, 0.7843],\n",
      "         ...,\n",
      "         [0.4784, 0.4784, 0.4784,  ..., 0.0078, 0.0078, 0.0078],\n",
      "         [0.4745, 0.4745, 0.4745,  ..., 0.0039, 0.0039, 0.0039],\n",
      "         [0.4706, 0.4706, 0.4745,  ..., 0.0039, 0.0039, 0.0039]],\n",
      "\n",
      "        [[0.3412, 0.3412, 0.3451,  ..., 0.4784, 0.4745, 0.4706],\n",
      "         [0.3412, 0.3412, 0.3451,  ..., 0.4784, 0.4745, 0.4745],\n",
      "         [0.3412, 0.3412, 0.3451,  ..., 0.4824, 0.4784, 0.4745],\n",
      "         ...,\n",
      "         [0.2157, 0.2157, 0.2157,  ..., 0.0000, 0.0000, 0.0000],\n",
      "         [0.2118, 0.2118, 0.2118,  ..., 0.0000, 0.0000, 0.0000],\n",
      "         [0.2078, 0.2078, 0.2118,  ..., 0.0000, 0.0000, 0.0000]]])\n"
     ]
    }
   ],
   "source": [
    "tensor_trans = transforms.ToTensor()#创建一个具体的工具，要去实现里边的类\n",
    "tensor_img = tensor_trans(img)\n",
    "print(tensor_img)"
   ]
  },
  {
   "cell_type": "code",
   "execution_count": null,
   "metadata": {},
   "outputs": [],
   "source": []
  }
 ],
 "metadata": {
  "kernelspec": {
   "display_name": "Python 3 (ipykernel)",
   "language": "python",
   "name": "python3"
  },
  "language_info": {
   "codemirror_mode": {
    "name": "ipython",
    "version": 3
   },
   "file_extension": ".py",
   "mimetype": "text/x-python",
   "name": "python",
   "nbconvert_exporter": "python",
   "pygments_lexer": "ipython3",
   "version": "3.7.13"
  }
 },
 "nbformat": 4,
 "nbformat_minor": 1
}
